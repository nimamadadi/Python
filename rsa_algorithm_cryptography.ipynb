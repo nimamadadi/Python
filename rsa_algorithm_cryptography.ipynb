{
  "nbformat": 4,
  "nbformat_minor": 0,
  "metadata": {
    "colab": {
      "provenance": [],
      "authorship_tag": "ABX9TyMdOFL5Ph5uwiA1QM1AB0By",
      "include_colab_link": true
    },
    "kernelspec": {
      "name": "python3",
      "display_name": "Python 3"
    },
    "language_info": {
      "name": "python"
    }
  },
  "cells": [
    {
      "cell_type": "markdown",
      "metadata": {
        "id": "view-in-github",
        "colab_type": "text"
      },
      "source": [
        "<a href=\"https://colab.research.google.com/github/nimamadadi/Python/blob/main/rsa_algorithm_cryptography.ipynb\" target=\"_parent\"><img src=\"https://colab.research.google.com/assets/colab-badge.svg\" alt=\"Open In Colab\"/></a>"
      ]
    },
    {
      "cell_type": "code",
      "execution_count": null,
      "metadata": {
        "id": "tHVjn_fkaejK"
      },
      "outputs": [],
      "source": [
        "#روش ساده برای اول بودن عدد\n",
        "def Is_Prime(Number):\n",
        "  if Number<=1:\n",
        "    return False\n",
        "  for i in range(2,int(Number**0.5)+1):\n",
        "    if Number % i==0:\n",
        "      return False\n",
        "  return True\n",
        "\n",
        "#تجزیه عدد به مقسوم علیه ها\n",
        "def bmm1(Number):\n",
        "  for i in range(2,int(Number)+1):\n",
        "    j=(Number % i)\n",
        "    if j==0 :\n",
        "      Number=Number/i\n",
        "      return (i,int(Number))\n",
        "\n",
        "#بررسی بخش پذیری عدد دوم به مقسوم علیه عدد اول\n",
        "def Is_Prime_(Number,Number2):\n",
        "  num1,num2=Number,Number2\n",
        "  stop=0\n",
        "  while stop==0:\n",
        "    Number1=bmm1(Number)\n",
        "\n",
        "    Number=int(Number/Number1[0])\n",
        "    if int(Number2) % int(Number1[0])==0:\n",
        "      return False\n",
        "      stop=1\n",
        "      break\n",
        "\n",
        "    if Number1[1]==1:\n",
        "       stop=1\n",
        "       #print(f\"{num1} is prime to {num2}\")\n",
        "       return True"
      ]
    },
    {
      "cell_type": "code",
      "source": [
        "import numpy as np\n",
        "np.random.seed(42)\n",
        "\n",
        "\n",
        "def n_calc(p,q):\n",
        "  n=p*q\n",
        "  #print(f\"n is: {n}\")\n",
        "  return n\n",
        "\n",
        "def fi_n_calc(p,q):\n",
        "  fin=(p-1)*(q-1)\n",
        "  #print(f\"fi_n is: {fin}\")\n",
        "  return fin\n",
        "\n",
        "def e_calc(fi_n):\n",
        "  Stop=0\n",
        "  while Stop==0:\n",
        "    n=np.random.randint(3,fi_n-1)\n",
        "    if Is_Prime_(fi_n,int(n))==True:\n",
        "      #print(f\"e is: {n}\")\n",
        "      return int(n)\n",
        "      Stop==1\n",
        "\n",
        "def d_cal(e,fi_n):\n",
        "  stop=0\n",
        "  while stop==0:\n",
        "    d=np.random.randint(5,10000)\n",
        "    if ((d*e) % fi_n)==1:\n",
        "      #print(f\"d is: {d}\")\n",
        "      return d\n",
        "      stop=1\n",
        "\n",
        "def Key_Generator():\n",
        "  p,q=(2**5)-1,(2**7)-1\n",
        "  n=n_calc(p,q)\n",
        "  fi_n=fi_n_calc(p,q)\n",
        "  e=e_calc(fi_n)\n",
        "  return e,n\n",
        "\n",
        "\n",
        "def Encription(Txt):\n",
        "  Key=Key_Generator()\n",
        "  n=Key[1]\n",
        "  e=Key[0]\n",
        "  Encription_Text=(Txt**Key[0] % Key[1])\n",
        "  return Encription_Text,e,n\n",
        "\n",
        "\n",
        "def Decription(TXT):\n",
        "  txt=TXT[0]\n",
        "  e=TXT[1]\n",
        "  n=TXT[2]\n",
        "\n",
        "  p,q=(2**5)-1,(2**7)-1\n",
        "\n",
        "  fi_n=fi_n_calc(p,q)\n",
        "\n",
        "  # de mod 160 =1\n",
        "  d=d_cal(e,fi_n)\n",
        "\n",
        "  Decription=TXT[0]**d % n\n",
        "\n",
        "  print(f\"encrypted Text : {TXT[0]}\")\n",
        "  print(f\"decrypt Text : {Decription}\")\n",
        "  return Decription\n",
        "\n",
        "\n",
        "\n",
        "\n",
        "\n"
      ],
      "metadata": {
        "id": "4qF7zfEJtcn4"
      },
      "execution_count": null,
      "outputs": []
    },
    {
      "cell_type": "code",
      "source": [
        "Decription(Encription(17))"
      ],
      "metadata": {
        "colab": {
          "base_uri": "https://localhost:8080/"
        },
        "id": "KshPQtkIW1a6",
        "outputId": "1a6a89c3-afac-42a3-af23-bcddf2bb3625"
      },
      "execution_count": null,
      "outputs": [
        {
          "output_type": "stream",
          "name": "stdout",
          "text": [
            "encrypted Text : 1314\n",
            "decrypt Text : 17\n"
          ]
        },
        {
          "output_type": "execute_result",
          "data": {
            "text/plain": [
              "17"
            ]
          },
          "metadata": {},
          "execution_count": 4
        }
      ]
    }
  ]
}